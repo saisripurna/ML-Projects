{
 "cells": [
  {
   "cell_type": "code",
   "execution_count": 2,
   "metadata": {},
   "outputs": [],
   "source": [
    "import pandas as pd\n",
    "import numpy as np\n",
    "import seaborn as sns"
   ]
  },
  {
   "cell_type": "code",
   "execution_count": 3,
   "metadata": {},
   "outputs": [
    {
     "name": "stderr",
     "output_type": "stream",
     "text": [
      "<>:3: SyntaxWarning: invalid escape sequence '\\T'\n",
      "<>:3: SyntaxWarning: invalid escape sequence '\\T'\n",
      "C:\\Users\\vadit\\AppData\\Local\\Temp\\ipykernel_14692\\4271940076.py:3: SyntaxWarning: invalid escape sequence '\\T'\n",
      "  dataset=pd.read_csv(\"D:\\Text Emotion Detection\\data\\emotion_dataset_raw.csv\")\n"
     ]
    }
   ],
   "source": [
    "#loading the dataset\n",
    "\n",
    "dataset=pd.read_csv("D:\Text Emotion Detection\data\emotion_dataset_raw.csv")
   ]
  },
  {
   "cell_type": "code",
   "execution_count": 4,
   "metadata": {},
   "outputs": [
    {
     "data": {
      "text/html": [
       "<div>\n",
       "<style scoped>\n",
       "    .dataframe tbody tr th:only-of-type {\n",
       "        vertical-align: middle;\n",
       "    }\n",
       "\n",
       "    .dataframe tbody tr th {\n",
       "        vertical-align: top;\n",
       "    }\n",
       "\n",
       "    .dataframe thead th {\n",
       "        text-align: right;\n",
       "    }\n",
       "</style>\n",
       "<table border=\"1\" class=\"dataframe\">\n",
       "  <thead>\n",
       "    <tr style=\"text-align: right;\">\n",
       "      <th></th>\n",
       "      <th>Emotion</th>\n",
       "      <th>Text</th>\n",
       "    </tr>\n",
       "  </thead>\n",
       "  <tbody>\n",
       "    <tr>\n",
       "      <th>0</th>\n",
       "      <td>neutral</td>\n",
       "      <td>Why ?</td>\n",
       "    </tr>\n",
       "    <tr>\n",
       "      <th>1</th>\n",
       "      <td>joy</td>\n",
       "      <td>Sage Act upgrade on my to do list for tommorow.</td>\n",
       "    </tr>\n",
       "    <tr>\n",
       "      <th>2</th>\n",
       "      <td>sadness</td>\n",
       "      <td>ON THE WAY TO MY HOMEGIRL BABY FUNERAL!!! MAN ...</td>\n",
       "    </tr>\n",
       "    <tr>\n",
       "      <th>3</th>\n",
       "      <td>joy</td>\n",
       "      <td>Such an eye ! The true hazel eye-and so brill...</td>\n",
       "    </tr>\n",
       "    <tr>\n",
       "      <th>4</th>\n",
       "      <td>joy</td>\n",
       "      <td>@Iluvmiasantos ugh babe.. hugggzzz for u .!  b...</td>\n",
       "    </tr>\n",
       "  </tbody>\n",
       "</table>\n",
       "</div>"
      ],
      "text/plain": [
       "   Emotion                                               Text\n",
       "0  neutral                                             Why ? \n",
       "1      joy    Sage Act upgrade on my to do list for tommorow.\n",
       "2  sadness  ON THE WAY TO MY HOMEGIRL BABY FUNERAL!!! MAN ...\n",
       "3      joy   Such an eye ! The true hazel eye-and so brill...\n",
       "4      joy  @Iluvmiasantos ugh babe.. hugggzzz for u .!  b..."
      ]
     },
     "execution_count": 4,
     "metadata": {},
     "output_type": "execute_result"
    }
   ],
   "source": [
    "dataset.head()"
   ]
  },
  {
   "cell_type": "code",
   "execution_count": 5,
   "metadata": {},
   "outputs": [
    {
     "data": {
      "text/plain": [
       "Emotion\n",
       "joy         11045\n",
       "sadness      6722\n",
       "fear         5410\n",
       "anger        4297\n",
       "surprise     4062\n",
       "neutral      2254\n",
       "disgust       856\n",
       "shame         146\n",
       "Name: count, dtype: int64"
      ]
     },
     "execution_count": 5,
     "metadata": {},
     "output_type": "execute_result"
    }
   ],
   "source": [
    "dataset['Emotion'].value_counts()"
   ]
  },
  {
   "cell_type": "code",
   "execution_count": 6,
   "metadata": {},
   "outputs": [
    {
     "data": {
      "text/plain": [
       "<Axes: xlabel='Emotion', ylabel='count'>"
      ]
     },
     "execution_count": 6,
     "metadata": {},
     "output_type": "execute_result"
    },
    {
     "data": {
      "image/png": "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",
      "text/plain": [
       "<Figure size 640x480 with 1 Axes>"
      ]
     },
     "metadata": {},
     "output_type": "display_data"
    }
   ],
   "source": [
    "sns.countplot(x='Emotion',data=dataset)"
   ]
  },
  {
   "cell_type": "code",
   "execution_count": 7,
   "metadata": {},
   "outputs": [],
   "source": [
    "import neattext.functions as nfx\n",
    "\n",
    "# Remove the user handles\n",
    "dataset['Clean_Text'] = dataset['Text'].apply(nfx.remove_userhandles)"
   ]
  },
  {
   "cell_type": "code",
   "execution_count": 8,
   "metadata": {},
   "outputs": [
    {
     "data": {
      "text/plain": [
       "['BTC_ADDRESS_REGEX',\n",
       " 'CURRENCY_REGEX',\n",
       " 'CURRENCY_SYMB_REGEX',\n",
       " 'Counter',\n",
       " 'DATE_REGEX',\n",
       " 'EMAIL_REGEX',\n",
       " 'EMOJI_REGEX',\n",
       " 'HASTAG_REGEX',\n",
       " 'MASTERCard_REGEX',\n",
       " 'MD5_SHA_REGEX',\n",
       " 'MOST_COMMON_PUNCT_REGEX',\n",
       " 'NUMBERS_REGEX',\n",
       " 'PHONE_REGEX',\n",
       " 'PoBOX_REGEX',\n",
       " 'SPECIAL_CHARACTERS_REGEX',\n",
       " 'STOPWORDS',\n",
       " 'STOPWORDS_de',\n",
       " 'STOPWORDS_en',\n",
       " 'STOPWORDS_es',\n",
       " 'STOPWORDS_fr',\n",
       " 'STOPWORDS_ru',\n",
       " 'STOPWORDS_yo',\n",
       " 'STREET_ADDRESS_REGEX',\n",
       " 'TextFrame',\n",
       " 'URL_PATTERN',\n",
       " 'USER_HANDLES_REGEX',\n",
       " 'VISACard_REGEX',\n",
       " '__builtins__',\n",
       " '__cached__',\n",
       " '__doc__',\n",
       " '__file__',\n",
       " '__generate_text',\n",
       " '__loader__',\n",
       " '__name__',\n",
       " '__numbers_dict',\n",
       " '__package__',\n",
       " '__spec__',\n",
       " '_lex_richness_herdan',\n",
       " '_lex_richness_maas_ttr',\n",
       " 'clean_text',\n",
       " 'defaultdict',\n",
       " 'digit2words',\n",
       " 'extract_btc_address',\n",
       " 'extract_currencies',\n",
       " 'extract_currency_symbols',\n",
       " 'extract_dates',\n",
       " 'extract_emails',\n",
       " 'extract_emojis',\n",
       " 'extract_hashtags',\n",
       " 'extract_html_tags',\n",
       " 'extract_mastercard_addr',\n",
       " 'extract_md5sha',\n",
       " 'extract_numbers',\n",
       " 'extract_pattern',\n",
       " 'extract_phone_numbers',\n",
       " 'extract_postoffice_box',\n",
       " 'extract_shortwords',\n",
       " 'extract_special_characters',\n",
       " 'extract_stopwords',\n",
       " 'extract_street_address',\n",
       " 'extract_terms_in_bracket',\n",
       " 'extract_urls',\n",
       " 'extract_userhandles',\n",
       " 'extract_visacard_addr',\n",
       " 'fix_contractions',\n",
       " 'generate_sentence',\n",
       " 'hamming_distance',\n",
       " 'inverse_df',\n",
       " 'lexical_richness',\n",
       " 'markov_chain',\n",
       " 'math',\n",
       " 'nlargest',\n",
       " 'normalize',\n",
       " 'num2words',\n",
       " 'random',\n",
       " 're',\n",
       " 'read_txt',\n",
       " 'remove_accents',\n",
       " 'remove_bad_quotes',\n",
       " 'remove_btc_address',\n",
       " 'remove_currencies',\n",
       " 'remove_currency_symbols',\n",
       " 'remove_custom_pattern',\n",
       " 'remove_custom_words',\n",
       " 'remove_dates',\n",
       " 'remove_emails',\n",
       " 'remove_emojis',\n",
       " 'remove_hashtags',\n",
       " 'remove_html_tags',\n",
       " 'remove_mastercard_addr',\n",
       " 'remove_md5sha',\n",
       " 'remove_multiple_spaces',\n",
       " 'remove_non_ascii',\n",
       " 'remove_numbers',\n",
       " 'remove_phone_numbers',\n",
       " 'remove_postoffice_box',\n",
       " 'remove_puncts',\n",
       " 'remove_punctuations',\n",
       " 'remove_shortwords',\n",
       " 'remove_special_characters',\n",
       " 'remove_stopwords',\n",
       " 'remove_street_address',\n",
       " 'remove_terms_in_bracket',\n",
       " 'remove_urls',\n",
       " 'remove_userhandles',\n",
       " 'remove_visacard_addr',\n",
       " 'replace_bad_quotes',\n",
       " 'replace_currencies',\n",
       " 'replace_currency_symbols',\n",
       " 'replace_dates',\n",
       " 'replace_emails',\n",
       " 'replace_emojis',\n",
       " 'replace_numbers',\n",
       " 'replace_phone_numbers',\n",
       " 'replace_special_characters',\n",
       " 'replace_term',\n",
       " 'replace_urls',\n",
       " 'string',\n",
       " 'term_freq',\n",
       " 'to_txt',\n",
       " 'unicodedata',\n",
       " 'word_freq',\n",
       " 'word_length_freq']"
      ]
     },
     "execution_count": 8,
     "metadata": {},
     "output_type": "execute_result"
    }
   ],
   "source": [
    "dir(nfx)"
   ]
  },
  {
   "cell_type": "code",
   "execution_count": 9,
   "metadata": {},
   "outputs": [],
   "source": [
    "# Remove the stopwords\n",
    "dataset['Clean_Text'] = dataset['Clean_Text'].apply(nfx.remove_stopwords)"
   ]
  },
  {
   "cell_type": "code",
   "execution_count": 10,
   "metadata": {},
   "outputs": [
    {
     "data": {
      "text/html": [
       "<div>\n",
       "<style scoped>\n",
       "    .dataframe tbody tr th:only-of-type {\n",
       "        vertical-align: middle;\n",
       "    }\n",
       "\n",
       "    .dataframe tbody tr th {\n",
       "        vertical-align: top;\n",
       "    }\n",
       "\n",
       "    .dataframe thead th {\n",
       "        text-align: right;\n",
       "    }\n",
       "</style>\n",
       "<table border=\"1\" class=\"dataframe\">\n",
       "  <thead>\n",
       "    <tr style=\"text-align: right;\">\n",
       "      <th></th>\n",
       "      <th>Emotion</th>\n",
       "      <th>Text</th>\n",
       "      <th>Clean_Text</th>\n",
       "    </tr>\n",
       "  </thead>\n",
       "  <tbody>\n",
       "    <tr>\n",
       "      <th>0</th>\n",
       "      <td>neutral</td>\n",
       "      <td>Why ?</td>\n",
       "      <td>?</td>\n",
       "    </tr>\n",
       "    <tr>\n",
       "      <th>1</th>\n",
       "      <td>joy</td>\n",
       "      <td>Sage Act upgrade on my to do list for tommorow.</td>\n",
       "      <td>Sage Act upgrade list tommorow.</td>\n",
       "    </tr>\n",
       "    <tr>\n",
       "      <th>2</th>\n",
       "      <td>sadness</td>\n",
       "      <td>ON THE WAY TO MY HOMEGIRL BABY FUNERAL!!! MAN ...</td>\n",
       "      <td>WAY HOMEGIRL BABY FUNERAL!!! MAN HATE FUNERALS...</td>\n",
       "    </tr>\n",
       "    <tr>\n",
       "      <th>3</th>\n",
       "      <td>joy</td>\n",
       "      <td>Such an eye ! The true hazel eye-and so brill...</td>\n",
       "      <td>eye ! true hazel eye-and brilliant ! Regular f...</td>\n",
       "    </tr>\n",
       "    <tr>\n",
       "      <th>4</th>\n",
       "      <td>joy</td>\n",
       "      <td>@Iluvmiasantos ugh babe.. hugggzzz for u .!  b...</td>\n",
       "      <td>ugh babe.. hugggzzz u .! babe naamazed nga ako...</td>\n",
       "    </tr>\n",
       "    <tr>\n",
       "      <th>...</th>\n",
       "      <td>...</td>\n",
       "      <td>...</td>\n",
       "      <td>...</td>\n",
       "    </tr>\n",
       "    <tr>\n",
       "      <th>34787</th>\n",
       "      <td>surprise</td>\n",
       "      <td>@MichelGW have you gift! Hope you like it! It'...</td>\n",
       "      <td>gift! Hope like it! hand wear ! It'll warm! Lol</td>\n",
       "    </tr>\n",
       "    <tr>\n",
       "      <th>34788</th>\n",
       "      <td>joy</td>\n",
       "      <td>The world didnt give it to me..so the world MO...</td>\n",
       "      <td>world didnt me..so world DEFINITELY cnt away!!!</td>\n",
       "    </tr>\n",
       "    <tr>\n",
       "      <th>34789</th>\n",
       "      <td>anger</td>\n",
       "      <td>A man robbed me today .</td>\n",
       "      <td>man robbed today .</td>\n",
       "    </tr>\n",
       "    <tr>\n",
       "      <th>34790</th>\n",
       "      <td>fear</td>\n",
       "      <td>Youu call it JEALOUSY, I call it of #Losing YO...</td>\n",
       "      <td>Youu JEALOUSY, #Losing YOU...</td>\n",
       "    </tr>\n",
       "    <tr>\n",
       "      <th>34791</th>\n",
       "      <td>sadness</td>\n",
       "      <td>I think about you baby, and I dream about you ...</td>\n",
       "      <td>think baby, dream time</td>\n",
       "    </tr>\n",
       "  </tbody>\n",
       "</table>\n",
       "<p>34792 rows × 3 columns</p>\n",
       "</div>"
      ],
      "text/plain": [
       "        Emotion                                               Text  \\\n",
       "0       neutral                                             Why ?    \n",
       "1           joy    Sage Act upgrade on my to do list for tommorow.   \n",
       "2       sadness  ON THE WAY TO MY HOMEGIRL BABY FUNERAL!!! MAN ...   \n",
       "3           joy   Such an eye ! The true hazel eye-and so brill...   \n",
       "4           joy  @Iluvmiasantos ugh babe.. hugggzzz for u .!  b...   \n",
       "...         ...                                                ...   \n",
       "34787  surprise  @MichelGW have you gift! Hope you like it! It'...   \n",
       "34788       joy  The world didnt give it to me..so the world MO...   \n",
       "34789     anger                           A man robbed me today .    \n",
       "34790      fear  Youu call it JEALOUSY, I call it of #Losing YO...   \n",
       "34791   sadness  I think about you baby, and I dream about you ...   \n",
       "\n",
       "                                              Clean_Text  \n",
       "0                                                      ?  \n",
       "1                        Sage Act upgrade list tommorow.  \n",
       "2      WAY HOMEGIRL BABY FUNERAL!!! MAN HATE FUNERALS...  \n",
       "3      eye ! true hazel eye-and brilliant ! Regular f...  \n",
       "4      ugh babe.. hugggzzz u .! babe naamazed nga ako...  \n",
       "...                                                  ...  \n",
       "34787    gift! Hope like it! hand wear ! It'll warm! Lol  \n",
       "34788    world didnt me..so world DEFINITELY cnt away!!!  \n",
       "34789                                 man robbed today .  \n",
       "34790                      Youu JEALOUSY, #Losing YOU...  \n",
       "34791                             think baby, dream time  \n",
       "\n",
       "[34792 rows x 3 columns]"
      ]
     },
     "execution_count": 10,
     "metadata": {},
     "output_type": "execute_result"
    }
   ],
   "source": [
    "dataset"
   ]
  },
  {
   "cell_type": "code",
   "execution_count": 11,
   "metadata": {},
   "outputs": [],
   "source": [
    "#splitting the data into input variables and target variables\n",
    "x = dataset['Clean_Text']\n",
    "y = dataset['Emotion']"
   ]
  },
  {
   "cell_type": "code",
   "execution_count": 12,
   "metadata": {},
   "outputs": [],
   "source": [
    "#splitting the data into train set and test set\n",
    "\n",
    "from sklearn.model_selection import train_test_split\n",
    "x_train,x_test,y_train,y_test = train_test_split(x,y,test_size=0.3,random_state=42)"
   ]
  },
  {
   "cell_type": "code",
   "execution_count": 13,
   "metadata": {},
   "outputs": [],
   "source": [
    "#training the module\n",
    "from sklearn.pipeline import Pipeline\n",
    "from sklearn.feature_extraction.text import CountVectorizer\n",
    "from sklearn.svm import SVC\n",
    "from sklearn.ensemble import RandomForestClassifier\n",
    "from sklearn.linear_model import LogisticRegression\n",
    "import xgboost as xgb\n",
    "from xgboost import XGBClassifier\n",
    "from sklearn.preprocessing import LabelEncoder\n",
    "from sklearn.metrics import precision_score, recall_score, accuracy_score,f1_score\n"
   ]
  },
  {
   "cell_type": "code",
   "execution_count": 14,
   "metadata": {},
   "outputs": [],
   "source": [
    "X_train = list(x_train)\n",
    "X_test = list(x_test)\n",
    "le = LabelEncoder()\n",
    "y_train = le.fit_transform(y_train)\n",
    "y_test = le.transform(y_test)"
   ]
  },
  {
   "cell_type": "code",
   "execution_count": 15,
   "metadata": {},
   "outputs": [
    {
     "name": "stdout",
     "output_type": "stream",
     "text": [
      "Logistic Regression Metrics:\n",
      "Precision: 0.6215\n",
      "Recall: 0.6201\n",
      "Accuracy: 0.6201\n",
      "F1 Score: 0.6201\n"
     ]
    },
    {
     "name": "stderr",
     "output_type": "stream",
     "text": [
      "d:\\Anaconda\\Lib\\site-packages\\sklearn\\linear_model\\_logistic.py:469: ConvergenceWarning: lbfgs failed to converge (status=1):\n",
      "STOP: TOTAL NO. of ITERATIONS REACHED LIMIT.\n",
      "\n",
      "Increase the number of iterations (max_iter) or scale the data as shown in:\n",
      "    https://scikit-learn.org/stable/modules/preprocessing.html\n",
      "Please also refer to the documentation for alternative solver options:\n",
      "    https://scikit-learn.org/stable/modules/linear_model.html#logistic-regression\n",
      "  n_iter_i = _check_optimize_result(\n"
     ]
    }
   ],
   "source": [
    "#create a pipeline\n",
    "pipe_lr = Pipeline(steps=[('cv',CountVectorizer()),('lr',LogisticRegression())])\n",
    "#train the pipeline\n",
    "pipe_lr.fit(x_train,y_train)\n",
    "#make predictions\n",
    "y_pred = pipe_lr.predict(X_test)\n",
    "# print(y_pred)\n",
    " #calculate the metrics\n",
    "precision = precision_score(y_test, y_pred, average='weighted')  # Calculate precision\n",
    "recall = recall_score(y_test, y_pred, average='weighted')  # Calculate recall\n",
    "accuracy = accuracy_score(y_test, y_pred)  # Calculate accuracy\n",
    "f1 = f1_score(y_test, y_pred, average='weighted')  # Calculate F1 score\n",
    "#print the metrics\n",
    "print(\"Logistic Regression Metrics:\")\n",
    "print(f\"Precision: {precision:.4f}\")\n",
    "print(f\"Recall: {recall:.4f}\")\n",
    "print(f\"Accuracy: {accuracy:.4f}\")\n",
    "print(f\"F1 Score: {accuracy:.4f}\")"
   ]
  },
  {
   "cell_type": "code",
   "execution_count": 16,
   "metadata": {},
   "outputs": [
    {
     "name": "stdout",
     "output_type": "stream",
     "text": [
      "Support Vector  Metrics:\n",
      "Precision: 0.6242\n",
      "Recall: 0.6220\n",
      "F1 Score: 0.6118\n",
      "Accuracy: 0.6220\n"
     ]
    }
   ],
   "source": [
    "pipe_svm = Pipeline(steps=[('cv',CountVectorizer()),('svc', SVC(kernel = 'rbf', C = 10))])\n",
    "pipe_svm.fit(x_train,y_train)\n",
    "pipe_svm.score(x_test,y_test)\n",
    "# Make predictions\n",
    "y_pred = pipe_svm.predict(x_test)\n",
    "\n",
    "# Calculate metrics\n",
    "precision = precision_score(y_test, y_pred, average='weighted')  # Calculate precision\n",
    "recall = recall_score(y_test, y_pred, average='weighted')  # Calculate recall\n",
    "accuracy = accuracy_score(y_test, y_pred)  # Calculate accuracy\n",
    "f1 = f1_score(y_test, y_pred, average='weighted')  # Calculate F1 score\n",
    "\n",
    "# Print the metrics\n",
    "print(\"Support Vector  Metrics:\")\n",
    "print(f\"Precision: {precision:.4f}\")\n",
    "print(f\"Recall: {recall:.4f}\")\n",
    "print(f\"F1 Score: {f1:.4f}\")\n",
    "print(f\"Accuracy: {accuracy:.4f}\")"
   ]
  },
  {
   "cell_type": "code",
   "execution_count": 21,
   "metadata": {},
   "outputs": [
    {
     "name": "stdout",
     "output_type": "stream",
     "text": [
      "Random Forest Classifier Metrics:\n",
      "Precision: 0.5975\n",
      "Recall: 0.5598\n",
      "F1 Score: 0.5554\n",
      "Accuracy: 0.5598\n"
     ]
    }
   ],
   "source": [
    "pipe_rf = Pipeline(steps=[('cv',CountVectorizer()),('rf', RandomForestClassifier(n_estimators=10))])\n",
    "pipe_rf.fit(x_train,y_train)\n",
    "pipe_rf.score(x_test,y_test)\n",
    "# Make predictions\n",
    "y_pred_rf = pipe_rf.predict(x_test)\n",
    "\n",
    "# Calculate metrics\n",
    "precision_rf = precision_score(y_test, y_pred_rf, average='weighted')  # Calculate precision\n",
    "recall_rf = recall_score(y_test, y_pred_rf, average='weighted')  # Calculate recall\n",
    "accuracy_rf = accuracy_score(y_test, y_pred_rf)  # Calculate accuracy\n",
    "f1_rf = f1_score(y_test, y_pred_rf, average='weighted')  # Calculate F1 score\n",
    "\n",
    "# Print the metrics\n",
    "print(\"Random Forest Classifier Metrics:\")\n",
    "print(f\"Precision: {precision_rf:.4f}\")\n",
    "print(f\"Recall: {recall_rf:.4f}\")\n",
    "print(f\"F1 Score: {f1_rf:.4f}\")\n",
    "print(f\"Accuracy: {accuracy_rf:.4f}\")"
   ]
  },
  {
   "cell_type": "code",
   "execution_count": 22,
   "metadata": {},
   "outputs": [
    {
     "name": "stdout",
     "output_type": "stream",
     "text": [
      "XGBoost Classifier Metrics:\n",
      "Precision: 0.6908\n",
      "Recall: 0.5022\n",
      "F1 Score: 0.4687\n",
      "Accuracy: 0.5022\n"
     ]
    }
   ],
   "source": [
    "pipe_xgb=Pipeline(steps=[('cv',CountVectorizer()),('xgb',XGBClassifier(n_estimators=10, eval_metric='logloss'))])\n",
    "pipe_xgb.fit(x_train,y_train)\n",
    "pipe_xgb.score(x_test,y_test)\n",
    "# Make predictions\n",
    "y_pred_xgb = pipe_xgb.predict(x_test)\n",
    "\n",
    "# Calculate metrics\n",
    "precision_xgb = precision_score(y_test, y_pred_xgb, average='weighted')  # Calculate precision\n",
    "recall_xgb = recall_score(y_test, y_pred_xgb, average='weighted')  # Calculate recall\n",
    "accuracy_xgb = accuracy_score(y_test, y_pred_xgb)  # Calculate accuracy\n",
    "f1_xgb = f1_score(y_test, y_pred_xgb, average='weighted')  # Calculate F1 score\n",
    "\n",
    "# Print the metrics\n",
    "print(\"XGBoost Classifier Metrics:\")\n",
    "print(f\"Precision: {precision_xgb:.4f}\")\n",
    "print(f\"Recall: {recall_xgb:.4f}\")\n",
    "print(f\"F1 Score: {f1_xgb:.4f}\")\n",
    "print(f\"Accuracy: {accuracy_xgb:.4f}\")"
   ]
  },
  {
   "cell_type": "code",
   "execution_count": 23,
   "metadata": {},
   "outputs": [
    {
     "name": "stdout",
     "output_type": "stream",
     "text": [
      "Type of X_train: <class 'pandas.core.series.Series'>\n",
      "Type of y_train: <class 'numpy.ndarray'>\n",
      "First few elements of X_train: 17252                      Dressing tomorrow basketball :)\n",
      "14874    dry day bring bigger crowds add excitement vit...\n",
      "5359     getting excited getting xmas tree set &amp; fo...\n",
      "33649                    management = emotional repression\n",
      "8763                          moment mother nature departs\n",
      "Name: Clean_Text, dtype: object\n",
      "First few elements of y_train: [3 3 3 0 3]\n"
     ]
    }
   ],
   "source": [
    "print(f'Type of X_train: {type(x_train)}')\n",
    "print(f'Type of y_train: {type(y_train)}')\n",
    "print(f'First few elements of X_train: {x_train[:5]}')\n",
    "print(f'First few elements of y_train: {y_train[:5]}')"
   ]
  },
  {
   "cell_type": "code",
   "execution_count": 24,
   "metadata": {},
   "outputs": [],
   "source": [
    "import pickle \n",
    "with open (\"text_emotion_1.pkl\",\"wb\") as file:\n",
    "    pickle.dump(pipe_lr,file)"
   ]
  }
 ],
 "metadata": {
  "kernelspec": {
   "display_name": "base",
   "language": "python",
   "name": "python3"
  },
  "language_info": {
   "codemirror_mode": {
    "name": "ipython",
    "version": 3
   },
   "file_extension": ".py",
   "mimetype": "text/x-python",
   "name": "python",
   "nbconvert_exporter": "python",
   "pygments_lexer": "ipython3",
   "version": "3.12.4"
  }
 },
 "nbformat": 4,
 "nbformat_minor": 2
}
